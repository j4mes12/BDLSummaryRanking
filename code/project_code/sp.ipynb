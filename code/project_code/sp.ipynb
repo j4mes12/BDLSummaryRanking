{
 "cells": [
  {
   "cell_type": "code",
   "execution_count": 1,
   "metadata": {},
   "outputs": [],
   "source": [
    "from summariser import RandomSentenceSummariser"
   ]
  },
  {
   "cell_type": "code",
   "execution_count": 2,
   "metadata": {},
   "outputs": [],
   "source": [
    "text = \"Yannick Bolloré, chief executive of the Havas marketing group, likes to take a morning dip in the Mediterranean Sea when he attends the Cannes Lions advertising festival. He could not reach it this week because the beach was occupied by the sofa-strewn cabanas built for Meta, Google, WPP and others. An event that started out modestly almost 70 years ago as a spin-off of the Cannes film festival now sprawls along the Croisette on to hired yachts and into decked-out mansions. It has absorbed television, streaming, social media, technology platforms and everything that involves ads. Now it welcomes machine learning enterprises such as OpenAI, which built ChatGPT and Dall-E. I sat in WPP’s beach bar to listen to Jensen Huang, chief executive of the $1tn chipmaker Nvidia, promise an ad industry revolution powered by generative AI. “You will create AI factories where the input is creativity, and the output is content. You will generate billions of ads . . . one person at a time,” he told a wowed audience of marketers. This kind of happy talk always goes down well in Cannes: a vision of the future in which chief marketing officers of companies can do all kinds of whizz-bang things and feel on trend. Cannes Lions now bills itself as an “international festival of creativity” and no self-respecting creative likes to be a pessimist. In the sunshine, over a glass of rosé, AI felt less like a job threat than an enticing possibility. But beware of the AI hangover. The last technology revolution in ads that promised magical efficiency and exact consumer targeting was automated ad buying across the web. In practice, the ad tech industry, dominated by companies such as Google, has been a distinctly mixed blessing. About a quarter of the $88bn spent on automated ad buying by US advertisers is wasted, their trade group complained this week, with the average spot running on 44,000 websites, some of them dodgy. “We went down the niche audience road with programmatic advertising a decade ago and we got seduced by technology,” observed Peter Mears, who heads Havas’s media agencies. Generative AI undoubtedly has uses on the creative side of advertising. One is that it can help smaller businesses to level up against the big marketing spenders at Mars, Diageo and the like. The creative brains at the agencies occupying the prime hospitality spots in Cannes this week tend to be expensive to hire: they have to pay for all those parties somehow. I came across a couple of examples, one at Sirius XM, the US radio broadcaster. It plans to use AI to produce ads for smaller companies, offering them choices of AI-generated pitches, and then getting their pick read by an AI voice, rather than by expensive “voice talent”. The result is unlikely to be as persuasive as a human production but it will be cheaper and faster. Similarly, the marketing group McCann Worldgroup used AI to make 42,000 individual signs and menus for 8,400 owners of Mexican hot dog and hamburger stands who are customers of its client Bimbo, the bakery group. While having an AI-designed fast food display cannot put you on a par with McDonald’s or KFC, it all helps. AI can also assist in the inefficient business of devising campaigns for big companies. Instead of mocking up lots of initial ideas by hand, they can be brought to life by AI and then discarded — or stored in a database for future use — when one or two are chosen. Humans would still produce the final ad, with the routine stuff automated. But most of the excitement in Cannes was about going further than such AI infusions. It concerned Huang’s vision of infinite fragmentation, or what Brad Lightcap, OpenAI’s chief operating officer, called a “Cambrian explosion” of creativity. (We met in a café because OpenAI is so new in town that it lacked a cabana, but give it time.) The idea is that marketers no longer have to display the same ads to different people, no matter who they are or what they are doing at the time. AI has the potential to slash the cost of making small variations, from colours to shapes to background music, according to our preferences and situation. If I am on digital record as buying purple shirts, I am likely to see purple. This tickles advertisers, but there are some obvious pitfalls. One is that too much intimacy soon becomes spooky. I don’t mind being served ads on Instagram for similar brands but if all those ads started to mirror me, it would feel sinister. There are limits to how deeply I want the model to learn. Beyond that, I wonder if it’s worth it. Nvidia’s chips may be capable of processing billions of individual ads, but there are not that many reasons to buy ice cream or ketchup. In fact, we mostly eat them for the same reason as everyone else, which is how advertising has always worked. It may sound exciting to fragment ads, but is it sensible? Meanwhile, my sympathies to the juries responsible for handing out awards at Cannes Lions in another decade. If there really are billions of potential entries by then, they will need some AI help themselves.\""
   ]
  },
  {
   "cell_type": "code",
   "execution_count": 7,
   "metadata": {},
   "outputs": [
    {
     "data": {
      "text/plain": [
       "['Now it welcomes machine learning enterprises such as OpenAI, which built ChatGPT and Dall-E. If there really are billions of potential entries by then, they will need some AI help themselves.. If I am on digital record as buying purple shirts, I am likely to see purple. It may sound exciting to fragment ads, but is it sensible? Meanwhile, my sympathies to the juries responsible for handing out awards at Cannes Lions in another decade. This tickles advertisers, but there are some obvious pitfalls. In the sunshine, over a glass of rosé, AI felt less like a job threat than an enticing possibility. But most of the excitement in Cannes was about going further than such AI infusions. I don’t mind being served ads on Instagram for similar brands but if all those ads started to mirror me, it would feel sinister. One is that it can help smaller businesses to level up against the big marketing spenders at Mars, Diageo and the like. About a quarter of the $88bn spent on automated ad buying by US advertisers is wasted, their trade group complained this week, with the average spot running on 44,000 websites, some of them dodgy',\n",
       " 'I sat in WPP’s beach bar to listen to Jensen Huang, chief executive of the $1tn chipmaker Nvidia, promise an ad industry revolution powered by generative AI. If there really are billions of potential entries by then, they will need some AI help themselves.. An event that started out modestly almost 70 years ago as a spin-off of the Cannes film festival now sprawls along the Croisette on to hired yachts and into decked-out mansions. About a quarter of the $88bn spent on automated ad buying by US advertisers is wasted, their trade group complained this week, with the average spot running on 44,000 websites, some of them dodgy. There are limits to how deeply I want the model to learn. It has absorbed television, streaming, social media, technology platforms and everything that involves ads. Similarly, the marketing group McCann Worldgroup used AI to make 42,000 individual signs and menus for 8,400 owners of Mexican hot dog and hamburger stands who are customers of its client Bimbo, the bakery group. AI can also assist in the inefficient business of devising campaigns for big companies. Now it welcomes machine learning enterprises such as OpenAI, which built ChatGPT and Dall-E. It concerned Huang’s vision of infinite fragmentation, or what Brad Lightcap, OpenAI’s chief operating officer, called a “Cambrian explosion” of creativity',\n",
       " 'There are limits to how deeply I want the model to learn. The result is unlikely to be as persuasive as a human production but it will be cheaper and faster. In practice, the ad tech industry, dominated by companies such as Google, has been a distinctly mixed blessing. In fact, we mostly eat them for the same reason as everyone else, which is how advertising has always worked. This kind of happy talk always goes down well in Cannes: a vision of the future in which chief marketing officers of companies can do all kinds of whizz-bang things and feel on trend. Now it welcomes machine learning enterprises such as OpenAI, which built ChatGPT and Dall-E. “We went down the niche audience road with programmatic advertising a decade ago and we got seduced by technology,” observed Peter Mears, who heads Havas’s media agencies. I sat in WPP’s beach bar to listen to Jensen Huang, chief executive of the $1tn chipmaker Nvidia, promise an ad industry revolution powered by generative AI. I don’t mind being served ads on Instagram for similar brands but if all those ads started to mirror me, it would feel sinister. AI has the potential to slash the cost of making small variations, from colours to shapes to background music, according to our preferences and situation',\n",
       " 'Now it welcomes machine learning enterprises such as OpenAI, which built ChatGPT and Dall-E. It plans to use AI to produce ads for smaller companies, offering them choices of AI-generated pitches, and then getting their pick read by an AI voice, rather than by expensive “voice talent”. Generative AI undoubtedly has uses on the creative side of advertising. In practice, the ad tech industry, dominated by companies such as Google, has been a distinctly mixed blessing. Cannes Lions now bills itself as an “international festival of creativity” and no self-respecting creative likes to be a pessimist. An event that started out modestly almost 70 years ago as a spin-off of the Cannes film festival now sprawls along the Croisette on to hired yachts and into decked-out mansions. If I am on digital record as buying purple shirts, I am likely to see purple. I came across a couple of examples, one at Sirius XM, the US radio broadcaster. You will generate billions of ads\\u2009.\\u2009.\\u2009.\\u2009one person at a time,” he told a wowed audience of marketers. AI can also assist in the inefficient business of devising campaigns for big companies',\n",
       " 'This kind of happy talk always goes down well in Cannes: a vision of the future in which chief marketing officers of companies can do all kinds of whizz-bang things and feel on trend. I came across a couple of examples, one at Sirius XM, the US radio broadcaster. Instead of mocking up lots of initial ideas by hand, they can be brought to life by AI and then discarded — or stored in a database for future use — when one or two are chosen. It plans to use AI to produce ads for smaller companies, offering them choices of AI-generated pitches, and then getting their pick read by an AI voice, rather than by expensive “voice talent”. I don’t mind being served ads on Instagram for similar brands but if all those ads started to mirror me, it would feel sinister. If there really are billions of potential entries by then, they will need some AI help themselves.. Now it welcomes machine learning enterprises such as OpenAI, which built ChatGPT and Dall-E. This tickles advertisers, but there are some obvious pitfalls. About a quarter of the $88bn spent on automated ad buying by US advertisers is wasted, their trade group complained this week, with the average spot running on 44,000 websites, some of them dodgy. “We went down the niche audience road with programmatic advertising a decade ago and we got seduced by technology,” observed Peter Mears, who heads Havas’s media agencies']"
      ]
     },
     "execution_count": 7,
     "metadata": {},
     "output_type": "execute_result"
    }
   ],
   "source": [
    "t = RandomSentenceSummariser(text=text)\n",
    "t.generate_summaries(n=5, summary_length=10)"
   ]
  }
 ],
 "metadata": {
  "kernelspec": {
   "display_name": "SummaryRanking",
   "language": "python",
   "name": "python3"
  },
  "language_info": {
   "codemirror_mode": {
    "name": "ipython",
    "version": 3
   },
   "file_extension": ".py",
   "mimetype": "text/x-python",
   "name": "python",
   "nbconvert_exporter": "python",
   "pygments_lexer": "ipython3",
   "version": "3.8.3"
  },
  "orig_nbformat": 4
 },
 "nbformat": 4,
 "nbformat_minor": 2
}
